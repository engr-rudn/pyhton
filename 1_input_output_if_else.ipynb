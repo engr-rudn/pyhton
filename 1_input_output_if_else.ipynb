{
  "nbformat": 4,
  "nbformat_minor": 0,
  "metadata": {
    "colab": {
      "provenance": []
    },
    "kernelspec": {
      "name": "python3",
      "display_name": "Python 3"
    },
    "language_info": {
      "name": "python"
    }
  },
  "cells": [
    {
      "cell_type": "markdown",
      "metadata": {
        "id": "OFRN9vS0qWBO"
      },
      "source": [
        "# Лабораторная работа 1\n",
        "## Базовый синтаксис языка Python 3 и условные конструкции"
      ]
    },
    {
      "cell_type": "markdown",
      "metadata": {
        "id": "ac1RC13SqWBQ"
      },
      "source": [
        "# 1. Типы данных"
      ]
    },
    {
      "cell_type": "markdown",
      "metadata": {
        "id": "tssEksDRqWBQ"
      },
      "source": [
        "Основными типами данных в любом языке программирования являются:\n",
        "\n",
        "целые числа, вещественные числа, строки (символы), логические переменные (True (истина) или False (ложь)).\n",
        "\n",
        "Они могут быть записаны следующим образом"
      ]
    },
    {
      "cell_type": "code",
      "execution_count": null,
      "metadata": {
        "id": "4S6DcHMIqWBQ",
        "outputId": "75279d7d-22b5-4554-9cd5-3aa72496636c",
        "colab": {
          "base_uri": "https://localhost:8080/"
        }
      },
      "outputs": [
        {
          "output_type": "execute_result",
          "data": {
            "text/plain": [
              "(5, 1.0, 'hello', True)"
            ]
          },
          "metadata": {},
          "execution_count": 1
        }
      ],
      "source": [
        "5, 1.0, 'hello', 1<2"
      ]
    },
    {
      "cell_type": "markdown",
      "metadata": {
        "id": "wXG73QN8qWBR"
      },
      "source": [
        "Функцией type возвращает тип аргумента: "
      ]
    },
    {
      "cell_type": "code",
      "execution_count": null,
      "metadata": {
        "id": "dI-25Ot5qWBR",
        "outputId": "304ec805-a019-435f-bc35-7044e49dd927"
      },
      "outputs": [
        {
          "data": {
            "text/plain": [
              "(int, float, str, bool)"
            ]
          },
          "execution_count": 2,
          "metadata": {},
          "output_type": "execute_result"
        }
      ],
      "source": [
        "type(1), type(1.0), type('1'), type(1<2)"
      ]
    },
    {
      "cell_type": "markdown",
      "metadata": {
        "id": "Xva3tjDoqWBR"
      },
      "source": [
        "## 1.2 Операции с числами: $A+B$, $A-B$, $A*B$, $A/B$, $A^B$"
      ]
    },
    {
      "cell_type": "code",
      "execution_count": null,
      "metadata": {
        "id": "QiydqKrgqWBS",
        "outputId": "37b3341b-8d66-4e80-a018-d0deed2ca408"
      },
      "outputs": [
        {
          "name": "stdout",
          "output_type": "stream",
          "text": [
            " A + B =  3\n",
            " A - B =  -1\n",
            " A * B =  2\n",
            " A / B =  0.5\n",
            " A ^ B =  1\n"
          ]
        }
      ],
      "source": [
        "# комментарий: с целыми числами\n",
        "A=1 \n",
        "B=2\n",
        "print (' A + B = ',A+B) # сумма\n",
        "print (' A - B = ',A-B) # разность;\n",
        "print (' A * B = ',A*B) # произведение;\n",
        "print (' A / B = ',A/B) # частное;\n",
        "print (' A ^ B = ',A**B) # возведение в степень."
      ]
    },
    {
      "cell_type": "code",
      "execution_count": null,
      "metadata": {
        "id": "g6A7BjHoqWBS",
        "outputId": "8d74d887-049b-496c-973f-db773fa7729f"
      },
      "outputs": [
        {
          "name": "stdout",
          "output_type": "stream",
          "text": [
            " A + B  =  3.0\n",
            " A - B  =  -1.0\n",
            " A * B  =  2.0\n",
            " A / B  =  0.5\n",
            " A % B  =  1.0\n",
            " A // B =  0.0\n",
            " A ^ B  =  1.0\n"
          ]
        }
      ],
      "source": [
        "# комментарий: с вещественными числами\n",
        "A=1.0 \n",
        "B=2.0\n",
        "print (' A + B  = ',A+B)  # сумма\n",
        "print (' A - B  = ',A-B)  # разность;\n",
        "print (' A * B  = ',A*B)  # произведение;\n",
        "print (' A / B  = ',A/B)  # частное;\n",
        "print (' A % B  = ',A%B)  #  остаток от деления;\n",
        "print (' A // B = ',A//B) # деление без остатка;\n",
        "print (' A ^ B  = ',A**B) # возведение в степень."
      ]
    },
    {
      "cell_type": "code",
      "execution_count": null,
      "metadata": {
        "id": "K2hPeTYFqWBS",
        "outputId": "53fd0d5b-fc59-4ada-f966-42c50817491c"
      },
      "outputs": [
        {
          "name": "stdout",
          "output_type": "stream",
          "text": [
            " A / B =  0.5 возвращаемый тип -  <class 'float'>\n",
            " A / B =  0 возвращаемый тип -  <class 'int'>\n"
          ]
        }
      ],
      "source": [
        "# комментарий: ещё о целых числах, без автоматического переопределения типа было бы так\n",
        "A=1\n",
        "B=2\n",
        "print (' A / B = ',A/B, 'возвращаемый тип - ', type(A/B)) # автоматическое переопределение;\n",
        "print (' A / B = ',(int)(A/B), 'возвращаемый тип - ', type((int)(A/B))) # без автоматического переопределения;"
      ]
    },
    {
      "cell_type": "markdown",
      "source": [
        "#2. Операции ввода/вывода"
      ],
      "metadata": {
        "id": "EGPfx-yKJuYT"
      }
    },
    {
      "cell_type": "code",
      "source": [
        "# это - комментарий\n",
        "name = 'Василий'\n",
        "age = 11\n",
        "height = 183.1\n",
        "\n",
        "print()"
      ],
      "metadata": {
        "colab": {
          "base_uri": "https://localhost:8080/"
        },
        "id": "E3kpwjTxKDyZ",
        "outputId": "fc047a20-31dc-4287-b166-32087cc4bf9e"
      },
      "execution_count": null,
      "outputs": [
        {
          "output_type": "stream",
          "name": "stdout",
          "text": [
            "\n"
          ]
        }
      ]
    },
    {
      "cell_type": "markdown",
      "source": [
        "##2.1 Форматированный вывод"
      ],
      "metadata": {
        "id": "YZkozkzmRbQD"
      }
    },
    {
      "cell_type": "markdown",
      "source": [
        "3 варианта форматирования строк\n",
        "\n",
        "1. через %\n",
        "2. через '{x}'.format(x)\n",
        "3. f'{x}'\n",
        "\n",
        "% - указатель на вставку, тип: i - int, f - float, s - str, e - \"научное\" представление\n",
        "\n",
        "Для дробных чисел можно указывать число знаков после запятой и общее число знаков\n",
        "- ```:.f2``` выведет ```1.23``` (два знака после запятой)\n",
        "- ```:05.f3``` выведет ```01.23``` (использовать 5 символов, включая разделитель, оставить 3 символа после запятой"
      ],
      "metadata": {
        "id": "F_nyf6-dPzqc"
      }
    },
    {
      "cell_type": "markdown",
      "source": [
        "### Пример"
      ],
      "metadata": {
        "id": "1jud2XJLUxRu"
      }
    },
    {
      "cell_type": "code",
      "source": [
        "name = 'Василий'\n",
        "age = 11\n",
        "height = 183.1\n",
        "\n",
        "print(f'Привет {name}. Твой возраст - {age}, а рост - {height} см.')\n",
        "\n",
        "# есть другие способы форматировать строку\n",
        "# print('Привет %s Твой возраст - %s, а рост - %s см.' % (name, age, height))\n",
        "# print('Привет {} Твой возраст - {}, а рост - {} см.'.format(name, age, height))"
      ],
      "metadata": {
        "colab": {
          "base_uri": "https://localhost:8080/"
        },
        "outputId": "aa579057-0ef9-4ac5-a7c2-6fa500813025",
        "id": "yoSAgx4IKyEX"
      },
      "execution_count": null,
      "outputs": [
        {
          "output_type": "stream",
          "name": "stdout",
          "text": [
            "Привет Василий. Твой возраст - 11, а рост - 183.1 см.\n"
          ]
        }
      ]
    },
    {
      "cell_type": "markdown",
      "source": [
        "## 2.2 Интерактивный ввод\n",
        "В интерактивной сессии (или в программе, запущенной с командной строки) можно попросить пользователя что-нибудь ввести. Аргумент функции input - это приглашение для ввода (prompt). Можно использовать просто input(), тогда приглашения не будет. Но это неудобно, т.к. в этом случае трудно заметить, что программа чего-то ждёт."
      ],
      "metadata": {
        "id": "8o_EGZ7ER2fd"
      }
    },
    {
      "cell_type": "code",
      "source": [
        "name = input('Как тебя зовут?')"
      ],
      "metadata": {
        "id": "NLJQaU75R1dj",
        "colab": {
          "base_uri": "https://localhost:8080/"
        },
        "outputId": "02963b6a-0edc-43ee-a194-7831a1c861c6"
      },
      "execution_count": null,
      "outputs": [
        {
          "name": "stdout",
          "output_type": "stream",
          "text": [
            "Как тебя зовут?Василий\n"
          ]
        }
      ]
    },
    {
      "cell_type": "markdown",
      "source": [
        "### Задание 1\n",
        "1. Получите имя пользователя, спросив, как его зовут. Сохраните резальтат в переменную name\n",
        "2. Получите возраст пользователя. Сохраните в age\n",
        "3. Узнайте баланс на счету пользователя. Сохраните в balance\n",
        "4. Выведите на экран сообщения вида:\n",
        "   Привет, `ИМЯ`! Твой возраст `ВОЗРАСТ` лет, а твой баланс равен `БАЛАНС` рублей"
      ],
      "metadata": {
        "id": "b5L90XHm5HaY"
      }
    },
    {
      "cell_type": "code",
      "source": [
        "# Напишите ваш код\n",
        "\n"
      ],
      "metadata": {
        "id": "T7XLvCP6Sj9O"
      },
      "execution_count": null,
      "outputs": []
    },
    {
      "cell_type": "markdown",
      "source": [
        "#3. Условные конструкции if-elif-else (ветвление)\n"
      ],
      "metadata": {
        "id": "472przrlGk_4"
      }
    },
    {
      "cell_type": "markdown",
      "source": [
        "\n",
        "Синтаксис:\n",
        "```\n",
        "if Условие1:\n",
        "    Блок_инструкций_1 (выполняется если условие1 выполнено)\n",
        "elif Условие2:\n",
        "    Блок_инструкций_2 (выполняется если условие2 выполнено)    \n",
        "else:\n",
        "    Блок_инструкций_3 (выполняется если условия не выполнены)\n",
        "```\n",
        "\n",
        "Альтернативная форма записи:\n",
        "```\n",
        "результат = инструкция1(выполняется когда верно условие) if условие else инструкция2\n",
        "```"
      ],
      "metadata": {
        "id": "IQP3A7SKa8dw"
      }
    },
    {
      "cell_type": "markdown",
      "source": [
        "### Пример"
      ],
      "metadata": {
        "id": "9XWHKMJ0GB2s"
      }
    },
    {
      "cell_type": "code",
      "source": [
        "a = 7 \n",
        "b = -7\n",
        "\n",
        "print(a > b)\n",
        "\n",
        "# if a > b:\n",
        "#     print('а - наибольшее из данных чисел')\n",
        "# else:\n",
        "#     if b < a:\n",
        "#         print('b - наибольшее из двух чисел')\n",
        "#     else:\n",
        "#         print('a и b равны')"
      ],
      "metadata": {
        "colab": {
          "base_uri": "https://localhost:8080/"
        },
        "id": "pT5mRb8d85OB",
        "outputId": "cc7ce084-fd07-4792-c1ab-4c4b8a59c059"
      },
      "execution_count": null,
      "outputs": [
        {
          "output_type": "stream",
          "name": "stdout",
          "text": [
            "True\n"
          ]
        }
      ]
    },
    {
      "cell_type": "code",
      "source": [
        "# запись через elif - читается проще\n",
        "if a > b:\n",
        "    print('а - наибольшее из чисел')\n",
        "elif a < b:\n",
        "    print('б - наибольшее из чисел')\n",
        "else:\n",
        "    print('числа равны')"
      ],
      "metadata": {
        "colab": {
          "base_uri": "https://localhost:8080/"
        },
        "id": "9F93UKG-AlUP",
        "outputId": "ff30abe1-86c7-45c8-e558-f934cadf9ebf"
      },
      "execution_count": null,
      "outputs": [
        {
          "output_type": "stream",
          "name": "stdout",
          "text": [
            "а - наибольшее из чисел\n"
          ]
        }
      ]
    },
    {
      "cell_type": "markdown",
      "source": [
        "### Задание 2\n",
        "1. Спросите у пользователя, который час (без минут)\n",
        "2. Сохраните результат в переменной `hour`\n",
        "3. Составьте условную конструкцию:\n",
        "    - если час больше или равен 0 и меньше 6 - выведите 'Доброе утро'\n",
        "    - если час больше или равен 6 и меньше 12 - выведите 'Добрый день'\n",
        "    - если час больше или равен 12 и меньше 18 - выведите 'Добрый вечер'\n",
        "    - иначе - выведите 'Доброй ночи'"
      ],
      "metadata": {
        "id": "ul39NKv27tYb"
      }
    },
    {
      "cell_type": "code",
      "source": [
        "# Напишите ваш код\n",
        "\n",
        "\n"
      ],
      "metadata": {
        "id": "7qW2pdlJ9czm"
      },
      "execution_count": null,
      "outputs": []
    },
    {
      "cell_type": "code",
      "source": [
        "# # компактная запись в одну строку. Удобна для одного условия if - else\n",
        "# hour = 1\n",
        "# print('День') if 6 <= hour < 18 else print('Ночь')"
      ],
      "metadata": {
        "colab": {
          "base_uri": "https://localhost:8080/",
          "height": 35
        },
        "id": "Tz41kXDyH_E7",
        "outputId": "c74905d1-d52e-48a6-c43a-e80c2840888c"
      },
      "execution_count": null,
      "outputs": [
        {
          "output_type": "execute_result",
          "data": {
            "text/plain": [
              "'Ночь'"
            ],
            "application/vnd.google.colaboratory.intrinsic+json": {
              "type": "string"
            }
          },
          "metadata": {},
          "execution_count": 53
        }
      ]
    },
    {
      "cell_type": "markdown",
      "source": [
        "### Задание 3"
      ],
      "metadata": {
        "id": "hGgng8ZVgExG"
      }
    },
    {
      "cell_type": "markdown",
      "source": [
        "Вы работаете в банке и пишете программу для общения с клиентами.\n",
        "Ваша программа должна запрашивать основные данные клиента, определять, можно ли ему открыть вклад, и рассчитывать, сколько денег он получит в конце года.\n",
        "\n",
        "**Условия**\n",
        "- если клиенту нет 18, то вклад открыть нельзя\n",
        "- если сумма вклада меньше 50 000 - ставка составляет 3% годовых\n",
        "- если сумма вклада от 50 000 - 100 000 - ставка составляет 4% годовых\n",
        "- если сумма вклада больше 100 000 - ставка составляет 5% годовых\n",
        "\n",
        "**Подробная инструкция**\n",
        "\n",
        "1.   Запросите имя, возраст клиента. Положите результаты в переменные `name`, `age`\n",
        "2.   Выведите приветсвтие вида \"Добрый день, `name`!\"\n",
        "3.   Проверьте, что клиент совершеннолетний.\n",
        "    - Если да - выведите \"Вы можете открыть вклад\"\n",
        "    - Если нет - выведите на экран \"Вам ещё рано открывать вклад. Приходите через `x` лет\"\n",
        "\n",
        "4. Если больше 18 лет, запросите сумму, которую клиент хочет вложить. Положите её в переменную `deposit`\n",
        "\n",
        "5. Определите процентнтую ставку `rate` исходя из суммы вклада.\n",
        "\n",
        "6. Выведите \"Спасибо за то, что воспользовались нашими услугами, `name`!\" Вы вложили `deposit`, ставка составляет `rate`. В конце года вы можете забрать `y` рублей."
      ],
      "metadata": {
        "id": "fPqNREKdo4gP"
      }
    },
    {
      "cell_type": "code",
      "source": [
        "# Напишите ваш код\n",
        "\n",
        "\n"
      ],
      "metadata": {
        "id": "4k-PtSeVDD77"
      },
      "execution_count": null,
      "outputs": []
    }
  ]
}